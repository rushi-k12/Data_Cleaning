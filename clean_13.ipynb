{
  "cells": [
    {
      "cell_type": "markdown",
      "metadata": {
        "id": "view-in-github",
        "colab_type": "text"
      },
      "source": [
        "<a href=\"https://colab.research.google.com/github/rushi-k12/Data_Cleaning/blob/main/clean_13.ipynb\" target=\"_parent\"><img src=\"https://colab.research.google.com/assets/colab-badge.svg\" alt=\"Open In Colab\"/></a>"
      ]
    },
    {
      "cell_type": "code",
      "execution_count": null,
      "metadata": {
        "id": "1kgxN67-f8np"
      },
      "outputs": [],
      "source": [
        "import pandas as pd\n",
        "import numpy as np\n",
        "import matplotlib.pyplot as plt\n",
        "import seaborn as sns\n",
        "\n",
        "pd.set_option('display.max_columns',None)"
      ]
    },
    {
      "cell_type": "code",
      "execution_count": null,
      "metadata": {
        "id": "z9oA8LYrf8nq"
      },
      "outputs": [],
      "source": [
        "df=pd.read_excel(\"/content/messy-data.xlsx\")"
      ]
    },
    {
      "cell_type": "code",
      "execution_count": null,
      "metadata": {
        "id": "2Jq5ZsiMf8nr"
      },
      "outputs": [],
      "source": [
        "df.drop('Unnamed: 0',inplace=True, axis=1)"
      ]
    },
    {
      "cell_type": "code",
      "execution_count": null,
      "metadata": {
        "id": "MskJCuRMf8nr",
        "outputId": "f116b920-710e-42e7-ba53-58c0ae55918e"
      },
      "outputs": [
        {
          "data": {
            "text/html": [
              "<div>\n",
              "<style scoped>\n",
              "    .dataframe tbody tr th:only-of-type {\n",
              "        vertical-align: middle;\n",
              "    }\n",
              "\n",
              "    .dataframe tbody tr th {\n",
              "        vertical-align: top;\n",
              "    }\n",
              "\n",
              "    .dataframe thead th {\n",
              "        text-align: right;\n",
              "    }\n",
              "</style>\n",
              "<table border=\"1\" class=\"dataframe\">\n",
              "  <thead>\n",
              "    <tr style=\"text-align: right;\">\n",
              "      <th>1</th>\n",
              "      <th>Month, period</th>\n",
              "      <th>Lake Victoria</th>\n",
              "      <th>Simiyu</th>\n",
              "    </tr>\n",
              "  </thead>\n",
              "  <tbody>\n",
              "    <tr>\n",
              "      <th>0</th>\n",
              "      <td>NaN</td>\n",
              "      <td>NaN</td>\n",
              "      <td>NaN</td>\n",
              "    </tr>\n",
              "    <tr>\n",
              "      <th>1</th>\n",
              "      <td>Month, period</td>\n",
              "      <td>Lake Victoria</td>\n",
              "      <td>Simiyu</td>\n",
              "    </tr>\n",
              "    <tr>\n",
              "      <th>2</th>\n",
              "      <td>Jan,2001-2019</td>\n",
              "      <td>3.176mm</td>\n",
              "      <td>2.908474</td>\n",
              "    </tr>\n",
              "    <tr>\n",
              "      <th>3</th>\n",
              "      <td>Feb,2001-2019</td>\n",
              "      <td>3.477mm</td>\n",
              "      <td>1.8mm</td>\n",
              "    </tr>\n",
              "    <tr>\n",
              "      <th>4</th>\n",
              "      <td>Mar,2001-2019</td>\n",
              "      <td>4.687053</td>\n",
              "      <td>2.981053</td>\n",
              "    </tr>\n",
              "  </tbody>\n",
              "</table>\n",
              "</div>"
            ],
            "text/plain": [
              "1  Month, period  Lake Victoria    Simiyu\n",
              "0            NaN            NaN       NaN\n",
              "1  Month, period  Lake Victoria    Simiyu\n",
              "2  Jan,2001-2019        3.176mm  2.908474\n",
              "3  Feb,2001-2019        3.477mm     1.8mm\n",
              "4  Mar,2001-2019       4.687053  2.981053"
            ]
          },
          "execution_count": 8,
          "metadata": {},
          "output_type": "execute_result"
        }
      ],
      "source": [
        "df.columns=df.iloc[1]\n",
        "df.head()"
      ]
    },
    {
      "cell_type": "code",
      "execution_count": null,
      "metadata": {
        "id": "83RBa3pBf8ns"
      },
      "outputs": [],
      "source": [
        "#dropping the null values to avert errors\n",
        "df.dropna(inplace=True)\n"
      ]
    },
    {
      "cell_type": "code",
      "execution_count": null,
      "metadata": {
        "id": "Fqtx9yihf8ns"
      },
      "outputs": [],
      "source": [
        "#To replace the mm values in the column apiece\n",
        "df['Lake Victoria']=df['Lake Victoria'].replace(['3.176mm',\"3.477mm\"], ['3.176','3.477'])\n",
        "df['Simiyu']=df['Simiyu'].replace(['1.8mm'],['1.8'])\n"
      ]
    },
    {
      "cell_type": "code",
      "execution_count": null,
      "metadata": {
        "id": "Umo6ImrOf8ns"
      },
      "outputs": [],
      "source": [
        "#reename a column\n",
        "df.rename(columns={'Month, period': 'Month', 'Lake Victoria': 'Victoria'}, inplace=True)"
      ]
    },
    {
      "cell_type": "code",
      "execution_count": null,
      "metadata": {
        "id": "GJPaj65zf8ns",
        "outputId": "d3469bf9-2acb-406e-f7d1-598ff11e4d6c"
      },
      "outputs": [
        {
          "name": "stderr",
          "output_type": "stream",
          "text": [
            "C:\\Users\\PC\\AppData\\Local\\Temp\\ipykernel_8096\\2696642038.py:2: FutureWarning: In a future version of pandas all arguments of StringMethods.split except for the argument 'pat' will be keyword-only.\n",
            "  df[['Month', 'Period']] = df['Month'].str.split(',', 1, expand=True)\n"
          ]
        }
      ],
      "source": [
        "#split the first column\n",
        "df[['Month', 'Period']] = df['Month'].str.split(',', 1, expand=True)\n"
      ]
    },
    {
      "cell_type": "code",
      "execution_count": null,
      "metadata": {
        "id": "G-VfUeD-f8ns"
      },
      "outputs": [],
      "source": [
        "#to drop the first row\n",
        "df.drop([1], axis=0, inplace=True)"
      ]
    },
    {
      "cell_type": "code",
      "execution_count": null,
      "metadata": {
        "id": "aCIO6yvPf8ns"
      },
      "outputs": [],
      "source": [
        "#convert each value to float\n",
        "df['Victoria'] = pd.to_numeric(df['Victoria'])\n",
        "df['Simiyu'] = pd.to_numeric(df['Simiyu'])"
      ]
    },
    {
      "cell_type": "code",
      "execution_count": null,
      "metadata": {
        "id": "boBzA3D0f8nt",
        "outputId": "a62a84f6-fa11-4667-9f24-a14ad8de79df"
      },
      "outputs": [
        {
          "data": {
            "text/plain": [
              "2     2.9\n",
              "3     1.8\n",
              "4     3.0\n",
              "5     4.8\n",
              "6     4.1\n",
              "7     1.0\n",
              "8     0.2\n",
              "9     0.3\n",
              "10    1.2\n",
              "11    2.5\n",
              "12    3.1\n",
              "13    3.9\n",
              "Name: Simiyu, dtype: float64"
            ]
          },
          "execution_count": 15,
          "metadata": {},
          "output_type": "execute_result"
        }
      ],
      "source": [
        "#rounding up the column values\n",
        "df[\"Simiyu\"].round(decimals=1)"
      ]
    },
    {
      "cell_type": "code",
      "execution_count": null,
      "metadata": {
        "id": "CzGZ9-zAf8nt",
        "outputId": "2dff5b54-c946-4225-ede6-5a8e4ffe5685"
      },
      "outputs": [
        {
          "data": {
            "text/plain": [
              "2     3.2\n",
              "3     3.5\n",
              "4     4.7\n",
              "5     7.0\n",
              "6     9.4\n",
              "7     3.4\n",
              "8     1.8\n",
              "9     2.8\n",
              "10    4.0\n",
              "11    5.3\n",
              "12    5.1\n",
              "13    4.2\n",
              "Name: Victoria, dtype: float64"
            ]
          },
          "execution_count": 16,
          "metadata": {},
          "output_type": "execute_result"
        }
      ],
      "source": [
        "df[\"Victoria\"].round(decimals=1)"
      ]
    },
    {
      "cell_type": "code",
      "execution_count": null,
      "metadata": {
        "id": "yh92cDNff8nt",
        "outputId": "b1dba4fa-e980-47fe-ba6e-bfcde849af0f"
      },
      "outputs": [
        {
          "data": {
            "text/html": [
              "<div>\n",
              "<style scoped>\n",
              "    .dataframe tbody tr th:only-of-type {\n",
              "        vertical-align: middle;\n",
              "    }\n",
              "\n",
              "    .dataframe tbody tr th {\n",
              "        vertical-align: top;\n",
              "    }\n",
              "\n",
              "    .dataframe thead th {\n",
              "        text-align: right;\n",
              "    }\n",
              "</style>\n",
              "<table border=\"1\" class=\"dataframe\">\n",
              "  <thead>\n",
              "    <tr style=\"text-align: right;\">\n",
              "      <th>1</th>\n",
              "      <th>Month</th>\n",
              "      <th>Victoria</th>\n",
              "      <th>Simiyu</th>\n",
              "      <th>Period</th>\n",
              "    </tr>\n",
              "  </thead>\n",
              "  <tbody>\n",
              "    <tr>\n",
              "      <th>2</th>\n",
              "      <td>Jan</td>\n",
              "      <td>3.176000</td>\n",
              "      <td>2.908474</td>\n",
              "      <td>2001-2019</td>\n",
              "    </tr>\n",
              "    <tr>\n",
              "      <th>3</th>\n",
              "      <td>Feb</td>\n",
              "      <td>3.477000</td>\n",
              "      <td>1.800000</td>\n",
              "      <td>2001-2019</td>\n",
              "    </tr>\n",
              "    <tr>\n",
              "      <th>4</th>\n",
              "      <td>Mar</td>\n",
              "      <td>4.687053</td>\n",
              "      <td>2.981053</td>\n",
              "      <td>2001-2019</td>\n",
              "    </tr>\n",
              "    <tr>\n",
              "      <th>5</th>\n",
              "      <td>Apr</td>\n",
              "      <td>7.004526</td>\n",
              "      <td>4.753579</td>\n",
              "      <td>2001-2019</td>\n",
              "    </tr>\n",
              "    <tr>\n",
              "      <th>6</th>\n",
              "      <td>May</td>\n",
              "      <td>9.362789</td>\n",
              "      <td>4.077474</td>\n",
              "      <td>2001-2019</td>\n",
              "    </tr>\n",
              "  </tbody>\n",
              "</table>\n",
              "</div>"
            ],
            "text/plain": [
              "1 Month  Victoria    Simiyu     Period\n",
              "2   Jan  3.176000  2.908474  2001-2019\n",
              "3   Feb  3.477000  1.800000  2001-2019\n",
              "4   Mar  4.687053  2.981053  2001-2019\n",
              "5   Apr  7.004526  4.753579  2001-2019\n",
              "6   May  9.362789  4.077474  2001-2019"
            ]
          },
          "execution_count": 19,
          "metadata": {},
          "output_type": "execute_result"
        }
      ],
      "source": [
        "df.head()"
      ]
    },
    {
      "cell_type": "code",
      "execution_count": null,
      "metadata": {
        "id": "GxdWx_T3f8nt"
      },
      "outputs": [],
      "source": [
        "df.to_csv(\"cleaned data.csv\", index=False)"
      ]
    }
  ],
  "metadata": {
    "kernelspec": {
      "display_name": "Python 3 (ipykernel)",
      "language": "python",
      "name": "python3"
    },
    "language_info": {
      "codemirror_mode": {
        "name": "ipython",
        "version": 3
      },
      "file_extension": ".py",
      "mimetype": "text/x-python",
      "name": "python",
      "nbconvert_exporter": "python",
      "pygments_lexer": "ipython3",
      "version": "3.11.2"
    },
    "colab": {
      "provenance": [],
      "include_colab_link": true
    }
  },
  "nbformat": 4,
  "nbformat_minor": 0
}