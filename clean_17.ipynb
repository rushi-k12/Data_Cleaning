{
  "nbformat": 4,
  "nbformat_minor": 0,
  "metadata": {
    "colab": {
      "provenance": [],
      "authorship_tag": "ABX9TyPa4t/dlTtASE22wITZlRJH",
      "include_colab_link": true
    },
    "kernelspec": {
      "name": "python3",
      "display_name": "Python 3"
    },
    "language_info": {
      "name": "python"
    }
  },
  "cells": [
    {
      "cell_type": "markdown",
      "metadata": {
        "id": "view-in-github",
        "colab_type": "text"
      },
      "source": [
        "<a href=\"https://colab.research.google.com/github/rushi-k12/Data_Cleaning/blob/main/clean_17.ipynb\" target=\"_parent\"><img src=\"https://colab.research.google.com/assets/colab-badge.svg\" alt=\"Open In Colab\"/></a>"
      ]
    },
    {
      "cell_type": "code",
      "execution_count": 1,
      "metadata": {
        "colab": {
          "base_uri": "https://localhost:8080/"
        },
        "id": "ZmXJ8yQV_d6b",
        "outputId": "fcc4d501-d0f1-4916-cee9-4a77853421c9"
      },
      "outputs": [
        {
          "output_type": "stream",
          "name": "stdout",
          "text": [
            "Collecting netCDF4\n",
            "  Downloading netCDF4-1.7.1.post1-cp310-cp310-manylinux_2_17_x86_64.manylinux2014_x86_64.whl (9.0 MB)\n",
            "\u001b[2K     \u001b[90m━━━━━━━━━━━━━━━━━━━━━━━━━━━━━━━━━━━━━━━━\u001b[0m \u001b[32m9.0/9.0 MB\u001b[0m \u001b[31m33.9 MB/s\u001b[0m eta \u001b[36m0:00:00\u001b[0m\n",
            "\u001b[?25hCollecting cftime (from netCDF4)\n",
            "  Downloading cftime-1.6.4-cp310-cp310-manylinux_2_17_x86_64.manylinux2014_x86_64.whl (1.3 MB)\n",
            "\u001b[2K     \u001b[90m━━━━━━━━━━━━━━━━━━━━━━━━━━━━━━━━━━━━━━━━\u001b[0m \u001b[32m1.3/1.3 MB\u001b[0m \u001b[31m29.5 MB/s\u001b[0m eta \u001b[36m0:00:00\u001b[0m\n",
            "\u001b[?25hRequirement already satisfied: certifi in /usr/local/lib/python3.10/dist-packages (from netCDF4) (2024.6.2)\n",
            "Requirement already satisfied: numpy in /usr/local/lib/python3.10/dist-packages (from netCDF4) (1.25.2)\n",
            "Installing collected packages: cftime, netCDF4\n",
            "Successfully installed cftime-1.6.4 netCDF4-1.7.1.post1\n",
            "Requirement already satisfied: numpy in /usr/local/lib/python3.10/dist-packages (1.25.2)\n",
            "Requirement already satisfied: matplotlib in /usr/local/lib/python3.10/dist-packages (3.7.1)\n",
            "Requirement already satisfied: contourpy>=1.0.1 in /usr/local/lib/python3.10/dist-packages (from matplotlib) (1.2.1)\n",
            "Requirement already satisfied: cycler>=0.10 in /usr/local/lib/python3.10/dist-packages (from matplotlib) (0.12.1)\n",
            "Requirement already satisfied: fonttools>=4.22.0 in /usr/local/lib/python3.10/dist-packages (from matplotlib) (4.53.0)\n",
            "Requirement already satisfied: kiwisolver>=1.0.1 in /usr/local/lib/python3.10/dist-packages (from matplotlib) (1.4.5)\n",
            "Requirement already satisfied: numpy>=1.20 in /usr/local/lib/python3.10/dist-packages (from matplotlib) (1.25.2)\n",
            "Requirement already satisfied: packaging>=20.0 in /usr/local/lib/python3.10/dist-packages (from matplotlib) (24.1)\n",
            "Requirement already satisfied: pillow>=6.2.0 in /usr/local/lib/python3.10/dist-packages (from matplotlib) (9.4.0)\n",
            "Requirement already satisfied: pyparsing>=2.3.1 in /usr/local/lib/python3.10/dist-packages (from matplotlib) (3.1.2)\n",
            "Requirement already satisfied: python-dateutil>=2.7 in /usr/local/lib/python3.10/dist-packages (from matplotlib) (2.8.2)\n",
            "Requirement already satisfied: six>=1.5 in /usr/local/lib/python3.10/dist-packages (from python-dateutil>=2.7->matplotlib) (1.16.0)\n"
          ]
        }
      ],
      "source": [
        "!pip install netCDF4\n",
        "!pip install numpy\n",
        "!pip install matplotlib"
      ]
    },
    {
      "cell_type": "code",
      "source": [
        "import netCDF4 as nc\n",
        "\n",
        "df = nc.Dataset('/content/messy_dataset_large_CVs.nc', mode='r')"
      ],
      "metadata": {
        "id": "_NO5iYdTcFco"
      },
      "execution_count": 3,
      "outputs": []
    },
    {
      "cell_type": "code",
      "source": [
        "print(df)"
      ],
      "metadata": {
        "colab": {
          "base_uri": "https://localhost:8080/"
        },
        "id": "2Z6EENa7cYeT",
        "outputId": "0c1ccaae-2473-4b41-c470-744964de6227"
      },
      "execution_count": 5,
      "outputs": [
        {
          "output_type": "stream",
          "name": "stdout",
          "text": [
            "<class 'netCDF4._netCDF4.Dataset'>\n",
            "root group (NETCDF4 data model, file format HDF5):\n",
            "    dimensions(sizes): frame_num(194), CENTRAL_ANGLES(733), ATOM(735), COORDS(3), CENTRAL_DIHEDRALS(732), CENTRAL_DISTANCES(734), SIDE_DIHEDRALS(516), traj_num(4)\n",
            "    variables(dimensions): <class 'str'> ATOM(ATOM), <class 'str'> CENTRAL_ANGLES(CENTRAL_ANGLES), <class 'str'> CENTRAL_DIHEDRALS(CENTRAL_DIHEDRALS), <class 'str'> CENTRAL_DISTANCES(CENTRAL_DISTANCES), <class 'str'> COORDS(COORDS), <class 'str'> SIDE_DIHEDRALS(SIDE_DIHEDRALS), float64 central_angles(traj_num, frame_num, CENTRAL_ANGLES), float64 central_cartesians(traj_num, frame_num, ATOM, COORDS), float64 central_dihedrals(traj_num, frame_num, CENTRAL_DIHEDRALS), float64 central_distances(traj_num, frame_num, CENTRAL_DISTANCES), int64 frame_num(frame_num), float64 side_dihedrals(traj_num, frame_num, SIDE_DIHEDRALS), <class 'str'> traj_name(traj_num), int64 traj_num(traj_num)\n",
            "    groups: \n"
          ]
        }
      ]
    },
    {
      "cell_type": "code",
      "source": [
        "# Print dataset details\n",
        "print(df)\n",
        "\n",
        "# List all variables\n",
        "print(df.variables.keys())\n",
        "\n",
        "\n"
      ],
      "metadata": {
        "colab": {
          "base_uri": "https://localhost:8080/"
        },
        "id": "OXTRaEACcbBu",
        "outputId": "5e966065-b022-425b-da9e-78987265ab0d"
      },
      "execution_count": 8,
      "outputs": [
        {
          "output_type": "stream",
          "name": "stdout",
          "text": [
            "<class 'netCDF4._netCDF4.Dataset'>\n",
            "root group (NETCDF4 data model, file format HDF5):\n",
            "    dimensions(sizes): frame_num(194), CENTRAL_ANGLES(733), ATOM(735), COORDS(3), CENTRAL_DIHEDRALS(732), CENTRAL_DISTANCES(734), SIDE_DIHEDRALS(516), traj_num(4)\n",
            "    variables(dimensions): <class 'str'> ATOM(ATOM), <class 'str'> CENTRAL_ANGLES(CENTRAL_ANGLES), <class 'str'> CENTRAL_DIHEDRALS(CENTRAL_DIHEDRALS), <class 'str'> CENTRAL_DISTANCES(CENTRAL_DISTANCES), <class 'str'> COORDS(COORDS), <class 'str'> SIDE_DIHEDRALS(SIDE_DIHEDRALS), float64 central_angles(traj_num, frame_num, CENTRAL_ANGLES), float64 central_cartesians(traj_num, frame_num, ATOM, COORDS), float64 central_dihedrals(traj_num, frame_num, CENTRAL_DIHEDRALS), float64 central_distances(traj_num, frame_num, CENTRAL_DISTANCES), int64 frame_num(frame_num), float64 side_dihedrals(traj_num, frame_num, SIDE_DIHEDRALS), <class 'str'> traj_name(traj_num), int64 traj_num(traj_num)\n",
            "    groups: \n",
            "dict_keys(['ATOM', 'CENTRAL_ANGLES', 'CENTRAL_DIHEDRALS', 'CENTRAL_DISTANCES', 'COORDS', 'SIDE_DIHEDRALS', 'central_angles', 'central_cartesians', 'central_dihedrals', 'central_distances', 'frame_num', 'side_dihedrals', 'traj_name', 'traj_num'])\n"
          ]
        }
      ]
    },
    {
      "cell_type": "code",
      "source": [
        "# Access a specific variable\n",
        "variable_name = 'ATOM'  # Replace with your variable name\n",
        "variable = df.variables[variable_name]\n",
        "print(variable)\n",
        "\n",
        "# Access the data of the variable\n",
        "data = variable[:]\n",
        "print(data)"
      ],
      "metadata": {
        "colab": {
          "base_uri": "https://localhost:8080/"
        },
        "id": "x5vp7UH3cg6_",
        "outputId": "84324813-4bcd-43ab-9729-5a20e85740a4"
      },
      "execution_count": 9,
      "outputs": [
        {
          "output_type": "stream",
          "name": "stdout",
          "text": [
            "<class 'netCDF4._netCDF4.Variable'>\n",
            "vlen ATOM(ATOM)\n",
            "vlen data type: <class 'str'>\n",
            "unlimited dimensions: \n",
            "current shape = (735,)\n",
            "['0' '1' '2' '3' '4' '5' '6' '7' '8' '9' '10' '11' '12' '13' '14' '15'\n",
            " '16' '17' '18' '19' '20' '21' '22' '23' '24' '25' '26' '27' '28' '29'\n",
            " '30' '31' '32' '33' '34' '35' '36' '37' '38' '39' '40' '41' '42' '43'\n",
            " '44' '45' '46' '47' '48' '49' '50' '51' '52' '53' '54' '55' '56' '57'\n",
            " '58' '59' '60' '61' '62' '63' '64' '65' '66' '67' '68' '69' '70' '71'\n",
            " '72' '73' '74' '75' '76' '77' '78' '79' '80' '81' '82' '83' '84' '85'\n",
            " '86' '87' '88' '89' '90' '91' '92' '93' '94' '95' '96' '97' '98' '99'\n",
            " '100' '101' '102' '103' '104' '105' '106' '107' '108' '109' '110' '111'\n",
            " '112' '113' '114' '115' '116' '117' '118' '119' '120' '121' '122' '123'\n",
            " '124' '125' '126' '127' '128' '129' '130' '131' '132' '133' '134' '135'\n",
            " '136' '137' '138' '139' '140' '141' '142' '143' '144' '145' '146' '147'\n",
            " '148' '149' '150' '151' '152' '153' '154' '155' '156' '157' '158' '159'\n",
            " '160' '161' '162' '163' '164' '165' '166' '167' '168' '169' '170' '171'\n",
            " '172' '173' '174' '175' '176' '177' '178' '179' '180' '181' '182' '183'\n",
            " '184' '185' '186' '187' '188' '189' '190' '191' '192' '193' '194' '195'\n",
            " '196' '197' '198' '199' '200' '201' '202' '203' '204' '205' '206' '207'\n",
            " '208' '209' '210' '211' '212' '213' '214' '215' '216' '217' '218' '219'\n",
            " '220' '221' '222' '223' '224' '225' '226' '227' '228' '229' '230' '231'\n",
            " '232' '233' '234' '235' '236' '237' '238' '239' '240' '241' '242' '243'\n",
            " '244' '245' '246' '247' '248' '249' '250' '251' '252' '253' '254' '255'\n",
            " '256' '257' '258' '259' '260' '261' '262' '263' '264' '265' '266' '267'\n",
            " '268' '269' '270' '271' '272' '273' '274' '275' '276' '277' '278' '279'\n",
            " '280' '281' '282' '283' '284' '285' '286' '287' '288' '289' '290' '291'\n",
            " '292' '293' '294' '295' '296' '297' '298' '299' '300' '301' '302' '303'\n",
            " '304' '305' '306' '307' '308' '309' '310' '311' '312' '313' '314' '315'\n",
            " '316' '317' '318' '319' '320' '321' '322' '323' '324' '325' '326' '327'\n",
            " '328' '329' '330' '331' '332' '333' '334' '335' '336' '337' '338' '339'\n",
            " '340' '341' '342' '343' '344' '345' '346' '347' '348' '349' '350' '351'\n",
            " '352' '353' '354' '355' '356' '357' '358' '359' '360' '361' '362' '363'\n",
            " '364' '365' '366' '367' '368' '369' '370' '371' '372' '373' '374' '375'\n",
            " '376' '377' '378' '379' '380' '381' '382' '383' '384' '385' '386' '387'\n",
            " '388' '389' '390' '391' '392' '393' '394' '395' '396' '397' '398' '399'\n",
            " '400' '401' '402' '403' '404' '405' '406' '407' '408' '409' '410' '411'\n",
            " '412' '413' '414' '415' '416' '417' '418' '419' '420' '421' '422' '423'\n",
            " '424' '425' '426' '427' '428' '429' '430' '431' '432' '433' '434' '435'\n",
            " '436' '437' '438' '439' '440' '441' '442' '443' '444' '445' '446' '447'\n",
            " '448' '449' '450' '451' '452' '453' '454' '455' '456' '457' '458' '459'\n",
            " '460' '461' '462' '463' '464' '465' '466' '467' '468' '469' '470' '471'\n",
            " '472' '473' '474' '475' '476' '477' '478' '479' '480' '481' '482' '483'\n",
            " '484' '485' '486' '487' '488' '489' '490' '491' '492' '493' '494' '495'\n",
            " '496' '497' '498' '499' '500' '501' '502' '503' '504' '505' '506' '507'\n",
            " '508' '509' '510' '511' '512' '513' '514' '515' '516' '517' '518' '519'\n",
            " '520' '521' '522' '523' '524' '525' '526' '527' '528' '529' '530' '531'\n",
            " '532' '533' '534' '535' '536' '537' '538' '539' '540' '541' '542' '543'\n",
            " '544' '545' '546' '547' '548' '549' '550' '551' '552' '553' '554' '555'\n",
            " '556' '557' '558' '559' '560' '561' '562' '563' '564' '565' '566' '567'\n",
            " '568' '569' '570' '571' '572' '573' '574' '575' '576' '577' '578' '579'\n",
            " '580' '581' '582' '583' '584' '585' '586' '587' '588' '589' '590' '591'\n",
            " '592' '593' '594' '595' '596' '597' '598' '599' '600' '601' '602' '603'\n",
            " '604' '605' '606' '607' '608' '609' '610' '611' '612' '613' '614' '615'\n",
            " '616' '617' '618' '619' '620' '621' '622' '623' '624' '625' '626' '627'\n",
            " '628' '629' '630' '631' '632' '633' '634' '635' '636' '637' '638' '639'\n",
            " '640' '641' '642' '643' '644' '645' '646' '647' '648' '649' '650' '651'\n",
            " '652' '653' '654' '655' '656' '657' '658' '659' '660' '661' '662' '663'\n",
            " '664' '665' '666' '667' '668' '669' '670' '671' '672' '673' '674' '675'\n",
            " '676' '677' '678' '679' '680' '681' '682' '683' '684' '685' '686' '687'\n",
            " '688' '689' '690' '691' '692' '693' '694' '695' '696' '697' '698' '699'\n",
            " '700' '701' '702' '703' '704' '705' '706' '707' '708' '709' '710' '711'\n",
            " '712' '713' '714' '715' '716' '717' '718' '719' '720' '721' '722' '723'\n",
            " '724' '725' '726' '727' '728' '729' '730' '731' '732' '733' '734']\n"
          ]
        }
      ]
    },
    {
      "cell_type": "code",
      "source": [],
      "metadata": {
        "id": "v4IEcaqkrr2Q"
      },
      "execution_count": null,
      "outputs": []
    }
  ]
}